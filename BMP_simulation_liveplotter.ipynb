{
 "cells": [
  {
   "cell_type": "code",
   "execution_count": null,
   "id": "0fedd06e",
   "metadata": {},
   "outputs": [],
   "source": [
    "from IPython.display import display, HTML\n",
    "display(HTML(\"<style>.container { width:100% !important; }</style>\"))"
   ]
  },
  {
   "cell_type": "code",
   "execution_count": null,
   "id": "65399d76",
   "metadata": {},
   "outputs": [],
   "source": [
    "import numpy as np\n",
    "import pandas as pd\n",
    "import matplotlib.pyplot as plt\n",
    "%matplotlib notebook\n",
    "from matplotlib import rc"
   ]
  },
  {
   "cell_type": "code",
   "execution_count": null,
   "id": "37214567",
   "metadata": {},
   "outputs": [],
   "source": [
    "path1 = \"/media/HD2/Vineeth/data/bmp__rank_1_2022_11_04_1\""
   ]
  },
  {
   "cell_type": "code",
   "execution_count": null,
   "id": "a27362b6",
   "metadata": {},
   "outputs": [],
   "source": [
    "data1 = np.genfromtxt(path1 + \"/Mxi.txt\")\n",
    "t1  = data1[:,0]\n",
    "mt1 = data1[:,1]\n",
    "mz1 = data1[:,2]"
   ]
  },
  {
   "cell_type": "code",
   "execution_count": null,
   "id": "71b2541a",
   "metadata": {
    "scrolled": false
   },
   "outputs": [],
   "source": [
    "rc('font', weight='bold')\n",
    "fig = plt.figure(constrained_layout=True, figsize=(10, 5))\n",
    "spec = fig.add_gridspec(1, 1)\n",
    "\n",
    "ax1 = fig.add_subplot(spec[0, 0])\n",
    "ax1.plot(t1,mt1,linewidth=3.0,color='blue')\n",
    "ax1.set_xlabel(r'Time (s)', fontsize=25, color='black',fontweight='bold')\n",
    "ax1.set_ylabel(r'$M_{T}$ (AU)', fontsize=25, color='black',fontweight='bold')\n",
    "ax1.legend(fontsize=25,frameon=False)\n",
    "ax1.tick_params(axis='both',labelsize=14)\n",
    "ax1.grid(True, linestyle='-.')\n",
    "#ax1.set_xlim(0,0.02)\n",
    "#ax1.text(0.05, 200000, '(a)', ha='center', fontsize=25, color='black',fontweight='bold')\n",
    "\n",
    "ax10 = ax1.twinx()\n",
    "ax10.plot(t1,mz1,linewidth=3.0,color='red')\n",
    "ax10.set_xlabel(r'Time (s)', fontsize=25, color='black',fontweight='bold')\n",
    "ax10.set_ylabel(r'$M_{Z}$ (AU)', fontsize=25, color='black',fontweight='bold')\n",
    "ax10.legend(fontsize=25,frameon=False)\n",
    "ax10.tick_params(axis='both',labelsize=14)\n",
    "#ax10.grid(False, linestyle='-.')\n",
    "#ax10.set_xlim(0,0.02)"
   ]
  },
  {
   "cell_type": "code",
   "execution_count": null,
   "id": "981b22f5",
   "metadata": {},
   "outputs": [],
   "source": []
  }
 ],
 "metadata": {
  "kernelspec": {
   "display_name": "Python 3 (ipykernel)",
   "language": "python",
   "name": "python3"
  },
  "language_info": {
   "codemirror_mode": {
    "name": "ipython",
    "version": 3
   },
   "file_extension": ".py",
   "mimetype": "text/x-python",
   "name": "python",
   "nbconvert_exporter": "python",
   "pygments_lexer": "ipython3",
   "version": "3.9.7"
  }
 },
 "nbformat": 4,
 "nbformat_minor": 5
}
